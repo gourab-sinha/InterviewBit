{
  "nbformat": 4,
  "nbformat_minor": 0,
  "metadata": {
    "colab": {
      "name": "Untitled2.ipynb",
      "version": "0.3.2",
      "provenance": [],
      "include_colab_link": true
    },
    "kernelspec": {
      "name": "python3",
      "display_name": "Python 3"
    }
  },
  "cells": [
    {
      "cell_type": "markdown",
      "metadata": {
        "id": "view-in-github",
        "colab_type": "text"
      },
      "source": [
        "[View in Colaboratory](https://colab.research.google.com/github/gourab19964u/InterviewBit/blob/master/PlaceHolderInTensorflow.ipynb)"
      ]
    },
    {
      "metadata": {
        "id": "9TE1s7n3qwrk",
        "colab_type": "code",
        "colab": {
          "base_uri": "https://localhost:8080/",
          "height": 34
        },
        "outputId": "889a7ecd-5f31-483a-c53e-41b57e748b00"
      },
      "cell_type": "code",
      "source": [
        "import tensorflow as tf\n",
        "g=tf.Graph()\n",
        "with g.as_default():\n",
        "  a_tf=tf.placeholder(tf.int32,shape=[],name='a_tf')\n",
        "  b_tf=tf.placeholder(tf.int32,shape=[],name='b_tf')\n",
        "  c_tf=tf.placeholder(tf.int32,shape=[],name='c_tf')\n",
        "  z=2*(a_tf-b_tf)+c_tf\n",
        "with tf.Session(graph=g) as sess:\n",
        "  feed={a_tf:1,b_tf:2,c_tf:3}\n",
        "  print('Output: ',sess.run(z,feed_dict=feed))"
      ],
      "execution_count": 2,
      "outputs": [
        {
          "output_type": "stream",
          "text": [
            "Output:  1\n"
          ],
          "name": "stdout"
        }
      ]
    }
  ]
}