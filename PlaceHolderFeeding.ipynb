{
  "nbformat": 4,
  "nbformat_minor": 0,
  "metadata": {
    "colab": {
      "name": "Untitled2.ipynb",
      "version": "0.3.2",
      "provenance": [],
      "include_colab_link": true
    },
    "kernelspec": {
      "name": "python3",
      "display_name": "Python 3"
    }
  },
  "cells": [
    {
      "cell_type": "markdown",
      "metadata": {
        "id": "view-in-github",
        "colab_type": "text"
      },
      "source": [
        "[View in Colaboratory](https://colab.research.google.com/github/gourab19964u/InterviewBit/blob/master/PlaceHolderFeeding.ipynb)"
      ]
    },
    {
      "metadata": {
        "id": "9TE1s7n3qwrk",
        "colab_type": "code",
        "colab": {
          "base_uri": "https://localhost:8080/",
          "height": 235
        },
        "outputId": "39019755-c517-47ab-dc32-33a9cb544ed4"
      },
      "cell_type": "code",
      "source": [
        "import tensorflow as tf\n",
        "g=tf.Graph()\n",
        "with g.as_default():\n",
        "  tf_x=tf.placeholder(tf.float32,shape=[None,2],name='tf_a')\n",
        "  a_mean=tf.reduce_mean(tf_x,axis=0,name='mean')#tf.reduce_mean is an inbuiltfun\n",
        "import numpy as np\n",
        "np.random.seed(123)\n",
        "np.set_printoptions(precision=2)#set_printoptions is function to set precision\n",
        "with tf.Session(graph=g) as sess:\n",
        "  x1=np.random.uniform(low=0,high=1,size=(10,2))\n",
        "  print('Feeding data shape: ',x1.shape)\n",
        "  print('Feeding data\\n',x1)\n",
        "  print('result: ',sess.run(a_mean,feed_dict={tf_x:x1}))"
      ],
      "execution_count": 7,
      "outputs": [
        {
          "output_type": "stream",
          "text": [
            "Feeding data shape:  (10, 2)\n",
            "Feeding data\n",
            " [[0.7  0.29]\n",
            " [0.23 0.55]\n",
            " [0.72 0.42]\n",
            " [0.98 0.68]\n",
            " [0.48 0.39]\n",
            " [0.34 0.73]\n",
            " [0.44 0.06]\n",
            " [0.4  0.74]\n",
            " [0.18 0.18]\n",
            " [0.53 0.53]]\n",
            "result:  [0.5  0.46]\n"
          ],
          "name": "stdout"
        }
      ]
    }
  ]
}