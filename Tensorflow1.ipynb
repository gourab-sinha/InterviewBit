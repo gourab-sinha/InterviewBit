{
  "nbformat": 4,
  "nbformat_minor": 0,
  "metadata": {
    "colab": {
      "name": "Untitled1.ipynb",
      "version": "0.3.2",
      "provenance": [],
      "include_colab_link": true
    },
    "kernelspec": {
      "name": "python3",
      "display_name": "Python 3"
    }
  },
  "cells": [
    {
      "cell_type": "markdown",
      "metadata": {
        "id": "view-in-github",
        "colab_type": "text"
      },
      "source": [
        "[View in Colaboratory](https://colab.research.google.com/github/gourab19964u/InterviewBit/blob/master/Tensorflow1.ipynb)"
      ]
    },
    {
      "metadata": {
        "id": "Z5MX1seInKZO",
        "colab_type": "code",
        "colab": {
          "base_uri": "https://localhost:8080/",
          "height": 34
        },
        "outputId": "4999b87f-09d1-4189-97a4-359f30b09a9d"
      },
      "cell_type": "code",
      "source": [
        "import tensorflow as tf\n",
        "g = tf.Graph()\n",
        "with g.as_default():\n",
        "  a=tf.constant(1,name='a')\n",
        "  b=tf.constant(2,name='b')\n",
        "  c=tf.constant(3,name='c')\n",
        "  z=2*(a-b)+c\n",
        "with tf.Session(graph=g) as sess:\n",
        "  print('Output: ',sess.run(z))\n",
        "  "
      ],
      "execution_count": 2,
      "outputs": [
        {
          "output_type": "stream",
          "text": [
            "Output:  1\n"
          ],
          "name": "stdout"
        }
      ]
    }
  ]
}