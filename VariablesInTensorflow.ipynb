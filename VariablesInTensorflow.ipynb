{
  "nbformat": 4,
  "nbformat_minor": 0,
  "metadata": {
    "colab": {
      "name": "Untitled2.ipynb",
      "version": "0.3.2",
      "provenance": [],
      "include_colab_link": true
    },
    "kernelspec": {
      "name": "python3",
      "display_name": "Python 3"
    }
  },
  "cells": [
    {
      "cell_type": "markdown",
      "metadata": {
        "id": "view-in-github",
        "colab_type": "text"
      },
      "source": [
        "[View in Colaboratory](https://colab.research.google.com/github/gourab19964u/InterviewBit/blob/master/VariablesInTensorflow.ipynb)"
      ]
    },
    {
      "metadata": {
        "id": "9TE1s7n3qwrk",
        "colab_type": "code",
        "colab": {
          "base_uri": "https://localhost:8080/",
          "height": 67
        },
        "outputId": "7be4e69f-4bb4-447f-9e9d-4e99c55e2c6b"
      },
      "cell_type": "code",
      "source": [
        "import tensorflow as tf\n",
        "import numpy as np\n",
        "g=tf.Graph()\n",
        "with g.as_default():\n",
        "  w=tf.Variable(np.array([[1,2,3,4,5],[6,7,8,9,10]]),name='w')\n",
        "  print(w)\n",
        "with tf.Session(graph=g) as sess:\n",
        "  sess.run(tf.global_variables_initializer())\n",
        "  print(sess.run(w))"
      ],
      "execution_count": 19,
      "outputs": [
        {
          "output_type": "stream",
          "text": [
            "<tf.Variable 'w:0' shape=(2, 5) dtype=int64_ref>\n",
            "[[ 1  2  3  4  5]\n",
            " [ 6  7  8  9 10]]\n"
          ],
          "name": "stdout"
        }
      ]
    }
  ]
}